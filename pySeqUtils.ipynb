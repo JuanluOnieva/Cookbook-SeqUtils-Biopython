{
 "cells": [
  {
   "cell_type": "markdown",
   "metadata": {},
   "source": [
    "# Cookbook SeqUtils Biopython\n",
    "\n",
    "The present cookbook aims to explain the use of a biopython module: `SeqUtils`.\n",
    "\n",
    "This module is a package full of different functions. The description in the official web said: *\" Miscellaneous functions for dealing with sequences.\"*\n",
    "\n",
    "![Biopython](images/biopython.png)\n",
    "\n",
    "## Installation\n",
    "\n",
    "To install it, you need to install the full library `Biopython` with the following command:\n",
    "\n"
   ]
  },
  {
   "cell_type": "code",
   "execution_count": 73,
   "metadata": {},
   "outputs": [
    {
     "name": "stdout",
     "output_type": "stream",
     "text": [
      "\n",
      "The following command must be run outside of the IPython shell:\n",
      "\n",
      "    $ pip install biopython\n",
      "\n",
      "The Python package manager (pip) can only be used from outside of IPython.\n",
      "Please reissue the `pip` command in a separate terminal or command prompt.\n",
      "\n",
      "See the Python documentation for more information on how to install packages:\n",
      "\n",
      "    https://docs.python.org/3/installing/\n"
     ]
    }
   ],
   "source": [
    "pip install biopython"
   ]
  },
  {
   "cell_type": "markdown",
   "metadata": {},
   "source": [
    "\n",
    "## Use of the functions\n",
    "\n",
    "The package is divide into differente submodules:\n",
    "\n",
    "- SeqUtils\n",
    "- CheckSum\n",
    "- CodonUsage\n",
    "- ProtData\n",
    "- LCC\n",
    "\n",
    "Now, I will do some example of the different points.\n",
    "\n",
    "### SeqUtils\n",
    "\n",
    "In order to read fasta file, We need to import the module `SeqIO` and use the function `read`."
   ]
  },
  {
   "cell_type": "code",
   "execution_count": 2,
   "metadata": {},
   "outputs": [],
   "source": [
    "import Bio.SeqIO as bsio\n",
    "\n",
    "seq_adn_tyclv = bsio.read(\"data/TYCLVgenome.txt\", \"fasta\").seq\n",
    "seq_adn_llactis = bsio.read(\"data/LLactis.txt\", \"fasta\").seq\n",
    "seq_mrna = bsio.read(\"data/mRNA.fasta\", \"fasta\").seq\n",
    "seq_aa = bsio.read(\"data/aa.fasta\", \"fasta\").seq\n",
    "seq_adn_elegans = bsio.read(\"data/CElegans_chrX.fasta\", \"fasta\").seq"
   ]
  },
  {
   "cell_type": "markdown",
   "metadata": {},
   "source": [
    "Now, we can apply different functions to these sequences; for example: `gc`, `nt_search`, `six_frame_translation`...\n",
    "\n",
    "The function `gc` compute the porcentage of GC nucleotides."
   ]
  },
  {
   "cell_type": "code",
   "execution_count": 4,
   "metadata": {},
   "outputs": [
    {
     "name": "stdout",
     "output_type": "stream",
     "text": [
      "GC % of TYCLV40.95649047105358\n",
      "GC % of LLactis35.22896903161049\n",
      "GC % of CElegans chr X35.20328696826255\n"
     ]
    }
   ],
   "source": [
    "import Bio.SeqUtils as bsu\n",
    "\n",
    "tyclv_gc = bsu.GC(seq_adn_tyclv)\n",
    "print(\"GC % of TYCLV\" + str(tyclv_gc))\n",
    "llactis_gc = bsu.GC(seq_adn_llactis)\n",
    "print(\"GC % of LLactis\" + str(llactis_gc))\n",
    "ce_gc = bsu.GC(seq_adn_elegans)\n",
    "print(\"GC % of CElegans chr X\" + str(ce_gc))"
   ]
  },
  {
   "cell_type": "markdown",
   "metadata": {},
   "source": [
    "The functions  `six_frame_translation` translated RNA to protein with the 6 differents frames."
   ]
  },
  {
   "cell_type": "code",
   "execution_count": 76,
   "metadata": {},
   "outputs": [
    {
     "name": "stdout",
     "output_type": "stream",
     "text": [
      "The translations produce: GC_Frame: a:51 t:58 g:53 c:48 \n",
      "Sequence: aggactactt ... aggcgttgcc, 210 nt, 48.10 %GC\n",
      "\n",
      "\n",
      "1/1\n",
      "  D  Y  L  H  D  Q  S  Q  D  G  R  Y  V  L  L  E  F  K  V  S\n",
      " G  L  L  A  *  P  K  P  R  W  Q  V  R  P  F  R  I  *  G  *\n",
      "R  T  T  C  M  T  K  A  K  M  A  G  T  S  F  *  N  L  R  L\n",
      "aggactacttgcatgaccaaagccaagatggcaggtacgtccttttagaatttaaggtta   41 %\n",
      "tcctgatgaacgtactggtttcggttctaccgtccatgcaggaaaatcttaaattccaat\n",
      "V  V  Q  M  V  L  A  L  I  A  P  V  D  K  *  F  K  L  N  T \n",
      " P  S  S  A  H  G  F  G  L  H  C  T  R  G  K  L  I  *  P  *\n",
      "  S  *  K  C  S  W  L  W  S  \n"
     ]
    }
   ],
   "source": [
    "import Bio.SeqUtils as bsu\n",
    "\n",
    "translation = bsu.six_frame_translations(seq_mrna)\n",
    "print(\"The translations produce: \" + translation[0:550])"
   ]
  },
  {
   "cell_type": "markdown",
   "metadata": {},
   "source": [
    "Another important function is `nt_search`, which permit to look for a specific word in a sequence."
   ]
  },
  {
   "cell_type": "code",
   "execution_count": 77,
   "metadata": {},
   "outputs": [
    {
     "name": "stdout",
     "output_type": "stream",
     "text": [
      "['TTTTACACATTA', 16]\n"
     ]
    }
   ],
   "source": [
    "print(bsu.nt_search(str(seq_adn_llactis), \"TTTTACACATTA\"))"
   ]
  },
  {
   "cell_type": "markdown",
   "metadata": {},
   "source": [
    "Also there are son functions only for protein, like `seq3` or `seq1`."
   ]
  },
  {
   "cell_type": "code",
   "execution_count": 78,
   "metadata": {},
   "outputs": [
    {
     "name": "stdout",
     "output_type": "stream",
     "text": [
      "Three letter: MetAspAspAspIleAlaAlaLeuValValAspAsnGlySerGlyMetCy\n",
      "One letter: MDDDIAALVVDNGSGMCKAGFAGDDAPRAVFPSIVGRPRH\n"
     ]
    }
   ],
   "source": [
    "seq_aa_3_letters = bsu.seq3(seq_aa)\n",
    "seq_aa_1_letters = bsu.seq1(seq_aa_3_letters)\n",
    "print(\"Three letter: \" + seq_aa_3_letters[0:50])\n",
    "print(\"One letter: \" + seq_aa_1_letters[0:40])\n"
   ]
  },
  {
   "cell_type": "markdown",
   "metadata": {},
   "source": [
    "## CheckSum\n",
    "\n",
    "Now, we move into another submodule. This part of the library offers the functions related to the checksum value like `crc32` or `seguid`."
   ]
  },
  {
   "cell_type": "code",
   "execution_count": 5,
   "metadata": {},
   "outputs": [
    {
     "name": "stdout",
     "output_type": "stream",
     "text": [
      "CRC32 for LLactis: 334704398\n",
      "CRC32 for CElegans: 3075742384\n",
      "Seguid for LLactis: OIxZqNTVQ1YI9sL0A04G6n7oQGA\n",
      "Seguid for CElegans: GPWMB3w97ix0bh5mhwoF+VGYKIU\n"
     ]
    }
   ],
   "source": [
    "import Bio.SeqUtils.CheckSum as bsu\n",
    "\n",
    "print(\"CRC32 for LLactis: \" + str(bsu.crc32(seq_adn_llactis)))\n",
    "print(\"CRC32 for CElegans: \" + str(bsu.crc32(seq_adn_elegans)))\n",
    "print(\"Seguid for LLactis: \" + str(bsu.seguid(seq_adn_llactis)))\n",
    "print(\"Seguid for CElegans: \" + str(bsu.seguid(seq_adn_elegans)))\n"
   ]
  },
  {
   "cell_type": "markdown",
   "metadata": {},
   "source": [
    "## ProtData\n",
    "\n",
    "This submodule is only for protein sequence and contain the basic funcions for these type of biological sequences, for example:\n",
    "\n",
    "- `count_amino_acids`\n",
    "- `molecular_weight` (it can be used also with nucleotides sequences)\n",
    "- `aromaticity`\n",
    "- `flexibility`\n",
    "- `gravy`\n",
    "- `isoelectric_point`\n",
    "- `secondary_structure_fraction`\n",
    "\n",
    "In the following script we can see the use of these functions:\n"
   ]
  },
  {
   "cell_type": "code",
   "execution_count": 80,
   "metadata": {},
   "outputs": [
    {
     "name": "stdout",
     "output_type": "stream",
     "text": [
      "AA count:\n",
      "{'A': 29, 'C': 6, 'D': 23, 'E': 26, 'F': 13, 'G': 28, 'H': 9, 'I': 28, 'K': 19, 'L': 27, 'M': 17, 'N': 9, 'P': 19, 'Q': 12, 'R': 18, 'S': 25, 'T': 26, 'V': 22, 'W': 4, 'Y': 15}\n",
      "Molecular weigth: 41736.287900000054\n",
      "Aromaticity0.08533333333333333\n",
      "2º structur (helix, turn, sheet)\n",
      "(0.2906666666666667, 0.21599999999999997, 0.264)\n",
      "Isoelectric point: 5.29046630859375\n"
     ]
    }
   ],
   "source": [
    "from Bio.SeqUtils import ProtParam as pp\n",
    "\n",
    "prot = pp.ProteinAnalysis(str(seq_aa))\n",
    "\n",
    "print(\"AA count:\")\n",
    "print(prot.count_amino_acids())\n",
    "print(\"Molecular weigth: \" + str(prot.molecular_weight()))\n",
    "print(\"Aromaticity\" + str(prot.aromaticity()))\n",
    "print(\"2º structur (helix, turn, sheet)\")\n",
    "print(prot.secondary_structure_fraction())\n",
    "print(\"Isoelectric point: \" + str(prot.isoelectric_point()))"
   ]
  },
  {
   "cell_type": "markdown",
   "metadata": {},
   "source": [
    "## LCC\n",
    "\n",
    "The last submodule is Local Composition Complexity.\n",
    "\n",
    "Local compositional complexity is a numerical measure of repetitiveness of sequences of symbols from a finite alphabet. Highly repetitive sequences are considered simple, whereas highly nonrepetitive sequences are considered complex. "
   ]
  },
  {
   "cell_type": "code",
   "execution_count": 7,
   "metadata": {},
   "outputs": [
    {
     "name": "stdout",
     "output_type": "stream",
     "text": [
      "Example of sequence of aa: 0.9274876521248023\n",
      "Example of sequence of dna: 1.9358698575432178\n"
     ]
    }
   ],
   "source": [
    "from Bio.SeqUtils.lcc import lcc_simp\n",
    "\n",
    "print(\"Example of sequence of aa: \" + str(lcc_simp(seq_aa)))\n",
    "print(\"Example of sequence of dna: \" + str(lcc_simp(seq_adn_elegans)))"
   ]
  },
  {
   "cell_type": "markdown",
   "metadata": {},
   "source": [
    "![Python](images/python.png)"
   ]
  }
 ],
 "metadata": {
  "kernelspec": {
   "display_name": "Python 3",
   "language": "python",
   "name": "python3"
  },
  "language_info": {
   "codemirror_mode": {
    "name": "ipython",
    "version": 3
   },
   "file_extension": ".py",
   "mimetype": "text/x-python",
   "name": "python",
   "nbconvert_exporter": "python",
   "pygments_lexer": "ipython3",
   "version": "3.6.5"
  }
 },
 "nbformat": 4,
 "nbformat_minor": 2
}
